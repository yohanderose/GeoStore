{
 "cells": [
  {
   "cell_type": "code",
   "execution_count": 1,
   "metadata": {},
   "outputs": [],
   "source": [
    "import pandas as pd\n",
    "import numpy as np"
   ]
  },
  {
   "cell_type": "markdown",
   "metadata": {},
   "source": [
    "#### Hi guys, I'm writing this on the plane without internet but hope this will give more insight if things are still unclear.\n",
    "\n",
    "Im using pandas to illustrate the ideas but am so so sure this is not perfect.\n",
    "\n",
    "These are the general steps:\n",
    "1. Pass over unordered data and determine and track what lithology is actually there (using the additional ref# column)\n",
    "2. Slice the data structure on this new information to make or 'blocks' of each lithology.\n",
    "3. Build the ordered set (its not neccessary to make a seperate data structure, im sure you can rearange inplace for more space efficiency but its easier to demonstrate with pandas so don't judge me)\n",
    "4. Make a daddy object to keep track of start and ends of blocks in the ordered set."
   ]
  },
  {
   "cell_type": "code",
   "execution_count": 2,
   "metadata": {},
   "outputs": [
    {
     "data": {
      "text/html": [
       "<div>\n",
       "<style scoped>\n",
       "    .dataframe tbody tr th:only-of-type {\n",
       "        vertical-align: middle;\n",
       "    }\n",
       "\n",
       "    .dataframe tbody tr th {\n",
       "        vertical-align: top;\n",
       "    }\n",
       "\n",
       "    .dataframe thead th {\n",
       "        text-align: right;\n",
       "    }\n",
       "</style>\n",
       "<table border=\"1\" class=\"dataframe\">\n",
       "  <thead>\n",
       "    <tr style=\"text-align: right;\">\n",
       "      <th></th>\n",
       "      <th>Lith</th>\n",
       "      <th>Lat</th>\n",
       "      <th>Long</th>\n",
       "      <th>Prim_Comm</th>\n",
       "      <th>ref#</th>\n",
       "    </tr>\n",
       "  </thead>\n",
       "  <tbody>\n",
       "    <tr>\n",
       "      <th>0</th>\n",
       "      <td>sandstone</td>\n",
       "      <td>792751</td>\n",
       "      <td>480715</td>\n",
       "      <td>Sb</td>\n",
       "      <td>-1</td>\n",
       "    </tr>\n",
       "    <tr>\n",
       "      <th>1</th>\n",
       "      <td>basalt</td>\n",
       "      <td>792751</td>\n",
       "      <td>480715</td>\n",
       "      <td>Au</td>\n",
       "      <td>-1</td>\n",
       "    </tr>\n",
       "    <tr>\n",
       "      <th>2</th>\n",
       "      <td>bobs_rock</td>\n",
       "      <td>792751</td>\n",
       "      <td>480715</td>\n",
       "      <td>Au</td>\n",
       "      <td>-1</td>\n",
       "    </tr>\n",
       "    <tr>\n",
       "      <th>3</th>\n",
       "      <td>mafic_basalt</td>\n",
       "      <td>792751</td>\n",
       "      <td>480715</td>\n",
       "      <td>Au</td>\n",
       "      <td>-1</td>\n",
       "    </tr>\n",
       "    <tr>\n",
       "      <th>4</th>\n",
       "      <td>bobsRockButNamedDumb</td>\n",
       "      <td>792751</td>\n",
       "      <td>480715</td>\n",
       "      <td>Au</td>\n",
       "      <td>-1</td>\n",
       "    </tr>\n",
       "    <tr>\n",
       "      <th>5</th>\n",
       "      <td>arenite</td>\n",
       "      <td>792751</td>\n",
       "      <td>480715</td>\n",
       "      <td>Au</td>\n",
       "      <td>-1</td>\n",
       "    </tr>\n",
       "  </tbody>\n",
       "</table>\n",
       "</div>"
      ],
      "text/plain": [
       "                   Lith     Lat    Long Prim_Comm  ref#\n",
       "0             sandstone  792751  480715        Sb    -1\n",
       "1                basalt  792751  480715        Au    -1\n",
       "2             bobs_rock  792751  480715        Au    -1\n",
       "3          mafic_basalt  792751  480715        Au    -1\n",
       "4  bobsRockButNamedDumb  792751  480715        Au    -1\n",
       "5               arenite  792751  480715        Au    -1"
      ]
     },
     "execution_count": 2,
     "metadata": {},
     "output_type": "execute_result"
    }
   ],
   "source": [
    "# Let's first set up some dummy data\n",
    "data = [\n",
    "    ['sandstone', 792751, 480715, 'Sb', -1],\n",
    "    ['basalt', 792751, 480715, 'Au', -1],\n",
    "    ['bobs_rock', 792751, 480715, 'Au', -1],\n",
    "    ['mafic_basalt', 792751, 480715, 'Au', -1],\n",
    "    ['bobsRockButNamedDumb', 792751, 480715, 'Au', -1],\n",
    "    ['arenite', 792751, 480715, 'Au', -1],\n",
    "]\n",
    "\n",
    "# And some column names we will reuse\n",
    "# lithology | lat | long | primary_commodity | litho_reference_Number\n",
    "cols = \"Lith Lat Long Prim_Comm ref#\".split()\n",
    "\n",
    "# And make a dataframe (kinda like a database table)\n",
    "df = pd.DataFrame(columns=cols, data=data)\n",
    "df"
   ]
  },
  {
   "cell_type": "code",
   "execution_count": 3,
   "metadata": {},
   "outputs": [
    {
     "name": "stdout",
     "output_type": "stream",
     "text": [
      "{'basalt': ['basalt', 'mafic_basalt'], 'sandstone': ['sandstone', 'arenite'], 'bob': ['bobs_rock', 'bobsRockButNamedDumb']}\n",
      "\n",
      "['basalt', 'sandstone', 'bob']\n"
     ]
    }
   ],
   "source": [
    "# Need to make the reference dictionary\n",
    "dictionary = {\"basalt\" : ['basalt', 'mafic_basalt'],\n",
    "      \"sandstone\" : ['sandstone', 'arenite'],\n",
    "      \"bob\": ['bobs_rock', 'bobsRockButNamedDumb']}\n",
    "\n",
    "# And keep the keys (whatever you decide to call some lithology) to iterate over\n",
    "lithKeyNames = list(dictionary.keys())\n",
    "\n",
    "print(dictionary)\n",
    "print()\n",
    "print(lithKeyNames)"
   ]
  },
  {
   "cell_type": "markdown",
   "metadata": {},
   "source": [
    "Then we pass over the unordered set and see what lithology each row refers to.\n",
    "\n",
    "Lets set up a function to deal with properly assigning this.\n",
    "This will inevitably be kinda costly because we know and assume nothing prior about the row.\n",
    "Since Kavita is using python, I would recommend using the cython libs\n",
    "that compile the clunkier shit into fast c.\n",
    "\n",
    "Important though: Double for loops in python = really really bad.\n",
    "Maybe setting up the dictionary itself with common liths at the start?"
   ]
  },
  {
   "cell_type": "code",
   "execution_count": 4,
   "metadata": {},
   "outputs": [],
   "source": [
    "def confirmLithology(row):\n",
    "    # for each of these ['basalt', 'sandstone', 'bob']\n",
    "    for i in range(len(lithKeyNames)):\n",
    "        actualLith = str(lithKeyNames[i])\n",
    "        # check all the names associated for a match\n",
    "        possibleNames = dictionary[actualLith]\n",
    "        for name in possibleNames:\n",
    "            # once one is found, set the relevant row ref# in the original dataframe\n",
    "            # to the index of the actual lithology name\n",
    "            if row['Lith'] == name:\n",
    "                df['ref#'].iloc[row.name] = int(i)\n",
    "                return"
   ]
  },
  {
   "cell_type": "code",
   "execution_count": 5,
   "metadata": {},
   "outputs": [
    {
     "name": "stderr",
     "output_type": "stream",
     "text": [
      "C:\\Users\\user1\\Miniconda3\\lib\\site-packages\\pandas\\core\\indexing.py:670: SettingWithCopyWarning: \n",
      "A value is trying to be set on a copy of a slice from a DataFrame\n",
      "\n",
      "See the caveats in the documentation: https://pandas.pydata.org/pandas-docs/stable/user_guide/indexing.html#returning-a-view-versus-a-copy\n",
      "  self._setitem_with_indexer(indexer, value)\n"
     ]
    },
    {
     "data": {
      "text/plain": [
       "0    None\n",
       "1    None\n",
       "2    None\n",
       "3    None\n",
       "4    None\n",
       "5    None\n",
       "dtype: object"
      ]
     },
     "execution_count": 5,
     "metadata": {},
     "output_type": "execute_result"
    }
   ],
   "source": [
    "# Apply the above function to each row\n",
    "df.apply(confirmLithology, axis=1)"
   ]
  },
  {
   "cell_type": "code",
   "execution_count": 6,
   "metadata": {},
   "outputs": [
    {
     "data": {
      "text/html": [
       "<div>\n",
       "<style scoped>\n",
       "    .dataframe tbody tr th:only-of-type {\n",
       "        vertical-align: middle;\n",
       "    }\n",
       "\n",
       "    .dataframe tbody tr th {\n",
       "        vertical-align: top;\n",
       "    }\n",
       "\n",
       "    .dataframe thead th {\n",
       "        text-align: right;\n",
       "    }\n",
       "</style>\n",
       "<table border=\"1\" class=\"dataframe\">\n",
       "  <thead>\n",
       "    <tr style=\"text-align: right;\">\n",
       "      <th></th>\n",
       "      <th>Lith</th>\n",
       "      <th>Lat</th>\n",
       "      <th>Long</th>\n",
       "      <th>Prim_Comm</th>\n",
       "      <th>ref#</th>\n",
       "    </tr>\n",
       "  </thead>\n",
       "  <tbody>\n",
       "    <tr>\n",
       "      <th>1</th>\n",
       "      <td>basalt</td>\n",
       "      <td>792751</td>\n",
       "      <td>480715</td>\n",
       "      <td>Au</td>\n",
       "      <td>0</td>\n",
       "    </tr>\n",
       "    <tr>\n",
       "      <th>3</th>\n",
       "      <td>mafic_basalt</td>\n",
       "      <td>792751</td>\n",
       "      <td>480715</td>\n",
       "      <td>Au</td>\n",
       "      <td>0</td>\n",
       "    </tr>\n",
       "    <tr>\n",
       "      <th>0</th>\n",
       "      <td>sandstone</td>\n",
       "      <td>792751</td>\n",
       "      <td>480715</td>\n",
       "      <td>Sb</td>\n",
       "      <td>1</td>\n",
       "    </tr>\n",
       "    <tr>\n",
       "      <th>5</th>\n",
       "      <td>arenite</td>\n",
       "      <td>792751</td>\n",
       "      <td>480715</td>\n",
       "      <td>Au</td>\n",
       "      <td>1</td>\n",
       "    </tr>\n",
       "    <tr>\n",
       "      <th>2</th>\n",
       "      <td>bobs_rock</td>\n",
       "      <td>792751</td>\n",
       "      <td>480715</td>\n",
       "      <td>Au</td>\n",
       "      <td>2</td>\n",
       "    </tr>\n",
       "    <tr>\n",
       "      <th>4</th>\n",
       "      <td>bobsRockButNamedDumb</td>\n",
       "      <td>792751</td>\n",
       "      <td>480715</td>\n",
       "      <td>Au</td>\n",
       "      <td>2</td>\n",
       "    </tr>\n",
       "  </tbody>\n",
       "</table>\n",
       "</div>"
      ],
      "text/plain": [
       "                   Lith     Lat    Long Prim_Comm ref#\n",
       "1                basalt  792751  480715        Au    0\n",
       "3          mafic_basalt  792751  480715        Au    0\n",
       "0             sandstone  792751  480715        Sb    1\n",
       "5               arenite  792751  480715        Au    1\n",
       "2             bobs_rock  792751  480715        Au    2\n",
       "4  bobsRockButNamedDumb  792751  480715        Au    2"
      ]
     },
     "execution_count": 6,
     "metadata": {},
     "output_type": "execute_result"
    }
   ],
   "source": [
    "# Create an empty frame (not ideal) with the same column headers\n",
    "organisedData = pd.DataFrame(columns=cols)\n",
    "\n",
    "# Then append 'blocks' sequentially to the new frame\n",
    "for i in range(len(lithKeyNames)):\n",
    "    subset = df[df['ref#'] == i]\n",
    "    organisedData = organisedData.append(subset)\n",
    "\n",
    "# Reset the index\n",
    "organisedData = organisedData.reindex()\n",
    "organisedData"
   ]
  },
  {
   "cell_type": "markdown",
   "metadata": {},
   "source": [
    "And thats the idea behind building the data structure.\n",
    "So now you just need some Lithology object class type thing that stores\n",
    "where your 'block' is within the whole ordered set.\n",
    "\n",
    "We could keep using the lithKeyNames list as above and refer to the index\n",
    "of what is being queried as the ref# BUT a) as that list gets bigger\n",
    "itll be slow ~O(n) and b) its is harder to break an object oriented approach,\n",
    "especially if you guys take this further and bigger."
   ]
  },
  {
   "cell_type": "code",
   "execution_count": 7,
   "metadata": {},
   "outputs": [
    {
     "name": "stdout",
     "output_type": "stream",
     "text": [
      "{'basalt': 0, 'sandstone': 1, 'bob': 2}\n"
     ]
    }
   ],
   "source": [
    "# Obviously we'd have to think about a better daddy class for a pageTable\n",
    "# (and program structure in general tbh) than a python dict but just to illustrate:\n",
    "keys = lithKeyNames\n",
    "vals = range(len(lithKeyNames))\n",
    "pageTable = dict(zip(keys, vals))\n",
    "print(pageTable)"
   ]
  },
  {
   "cell_type": "code",
   "execution_count": 8,
   "metadata": {},
   "outputs": [
    {
     "data": {
      "text/html": [
       "<div>\n",
       "<style scoped>\n",
       "    .dataframe tbody tr th:only-of-type {\n",
       "        vertical-align: middle;\n",
       "    }\n",
       "\n",
       "    .dataframe tbody tr th {\n",
       "        vertical-align: top;\n",
       "    }\n",
       "\n",
       "    .dataframe thead th {\n",
       "        text-align: right;\n",
       "    }\n",
       "</style>\n",
       "<table border=\"1\" class=\"dataframe\">\n",
       "  <thead>\n",
       "    <tr style=\"text-align: right;\">\n",
       "      <th></th>\n",
       "      <th>Lith</th>\n",
       "      <th>Lat</th>\n",
       "      <th>Long</th>\n",
       "      <th>Prim_Comm</th>\n",
       "      <th>ref#</th>\n",
       "    </tr>\n",
       "  </thead>\n",
       "  <tbody>\n",
       "    <tr>\n",
       "      <th>0</th>\n",
       "      <td>sandstone</td>\n",
       "      <td>792751</td>\n",
       "      <td>480715</td>\n",
       "      <td>Sb</td>\n",
       "      <td>1</td>\n",
       "    </tr>\n",
       "    <tr>\n",
       "      <th>5</th>\n",
       "      <td>arenite</td>\n",
       "      <td>792751</td>\n",
       "      <td>480715</td>\n",
       "      <td>Au</td>\n",
       "      <td>1</td>\n",
       "    </tr>\n",
       "  </tbody>\n",
       "</table>\n",
       "</div>"
      ],
      "text/plain": [
       "        Lith     Lat    Long Prim_Comm ref#\n",
       "0  sandstone  792751  480715        Sb    1\n",
       "5    arenite  792751  480715        Au    1"
      ]
     },
     "execution_count": 8,
     "metadata": {},
     "output_type": "execute_result"
    }
   ],
   "source": [
    "# Then query any of the enforced liths (by a button to avoid input errors)\n",
    "# And oganise subsequent queries like so:\n",
    "query = \"sandstone\"\n",
    "returnedRows = organisedData[pageTable[query] == organisedData['ref#']]\n",
    "returnedRows"
   ]
  },
  {
   "cell_type": "code",
   "execution_count": 9,
   "metadata": {},
   "outputs": [
    {
     "data": {
      "text/html": [
       "<div>\n",
       "<style scoped>\n",
       "    .dataframe tbody tr th:only-of-type {\n",
       "        vertical-align: middle;\n",
       "    }\n",
       "\n",
       "    .dataframe tbody tr th {\n",
       "        vertical-align: top;\n",
       "    }\n",
       "\n",
       "    .dataframe thead th {\n",
       "        text-align: right;\n",
       "    }\n",
       "</style>\n",
       "<table border=\"1\" class=\"dataframe\">\n",
       "  <thead>\n",
       "    <tr style=\"text-align: right;\">\n",
       "      <th></th>\n",
       "      <th>Lith</th>\n",
       "      <th>Lat</th>\n",
       "      <th>Long</th>\n",
       "      <th>Prim_Comm</th>\n",
       "      <th>ref#</th>\n",
       "    </tr>\n",
       "  </thead>\n",
       "  <tbody>\n",
       "    <tr>\n",
       "      <th>0</th>\n",
       "      <td>sandstone</td>\n",
       "      <td>792751</td>\n",
       "      <td>480715</td>\n",
       "      <td>Sb</td>\n",
       "      <td>1</td>\n",
       "    </tr>\n",
       "  </tbody>\n",
       "</table>\n",
       "</div>"
      ],
      "text/plain": [
       "        Lith     Lat    Long Prim_Comm ref#\n",
       "0  sandstone  792751  480715        Sb    1"
      ]
     },
     "execution_count": 9,
     "metadata": {},
     "output_type": "execute_result"
    }
   ],
   "source": [
    "primaryComm = 'Sb'\n",
    "returnedRows[returnedRows['Prim_Comm'] == primaryComm]"
   ]
  }
 ],
 "metadata": {
  "kernelspec": {
   "display_name": "Python 3",
   "language": "python",
   "name": "python3"
  },
  "language_info": {
   "codemirror_mode": {
    "name": "ipython",
    "version": 3
   },
   "file_extension": ".py",
   "mimetype": "text/x-python",
   "name": "python",
   "nbconvert_exporter": "python",
   "pygments_lexer": "ipython3",
   "version": "3.7.4"
  }
 },
 "nbformat": 4,
 "nbformat_minor": 4
}
